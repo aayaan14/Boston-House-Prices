{
 "cells": [
  {
   "cell_type": "code",
   "execution_count": null,
   "id": "0d944c39-a4c0-4a6d-9d13-2f478404b8bb",
   "metadata": {},
   "outputs": [
    {
     "ename": "",
     "evalue": "",
     "output_type": "error",
     "traceback": [
      "\u001b[1;31mRunning cells with 'c:\\Users\\aayaan\\Desktop\\Projects\\ML\\Boston-House-Prices\\venv\\python.exe' requires the ipykernel package.\n",
      "\u001b[1;31mRun the following command to install 'ipykernel' into the Python environment. \n",
      "\u001b[1;31mCommand: 'conda install -p c:\\Users\\aayaan\\Desktop\\Projects\\ML\\Boston-House-Prices\\venv ipykernel --update-deps --force-reinstall'"
     ]
    }
   ],
   "source": [
    "import pandas as pd\n",
    "import numpy as np\n",
    "import matplotlib.pyplot as plt\n",
    "%matplotlib inline"
   ]
  },
  {
   "cell_type": "markdown",
   "id": "73442b8d-5d21-4867-b82e-01c296bb1827",
   "metadata": {},
   "source": [
    "## Lets Load the Boston House Pricing Dataset"
   ]
  },
  {
   "cell_type": "code",
   "execution_count": null,
   "id": "4e5c4196-4819-4f5f-9267-287f7291414c",
   "metadata": {},
   "outputs": [
    {
     "ename": "",
     "evalue": "",
     "output_type": "error",
     "traceback": [
      "\u001b[1;31mRunning cells with 'c:\\Users\\aayaan\\Desktop\\Projects\\ML\\Boston-House-Prices\\venv\\python.exe' requires the ipykernel package.\n",
      "\u001b[1;31mRun the following command to install 'ipykernel' into the Python environment. \n",
      "\u001b[1;31mCommand: 'conda install -p c:\\Users\\aayaan\\Desktop\\Projects\\ML\\Boston-House-Prices\\venv ipykernel --update-deps --force-reinstall'"
     ]
    }
   ],
   "source": [
    "from sklearn import datasets"
   ]
  },
  {
   "cell_type": "code",
   "execution_count": null,
   "id": "b7dfb5bb-1bcf-4574-88f6-5f6162cde3dc",
   "metadata": {},
   "outputs": [
    {
     "ename": "",
     "evalue": "",
     "output_type": "error",
     "traceback": [
      "\u001b[1;31mRunning cells with 'c:\\Users\\aayaan\\Desktop\\Projects\\ML\\Boston-House-Prices\\venv\\python.exe' requires the ipykernel package.\n",
      "\u001b[1;31mRun the following command to install 'ipykernel' into the Python environment. \n",
      "\u001b[1;31mCommand: 'conda install -p c:\\Users\\aayaan\\Desktop\\Projects\\ML\\Boston-House-Prices\\venv ipykernel --update-deps --force-reinstall'"
     ]
    }
   ],
   "source": [
    "boston = datasets.load_boston()"
   ]
  },
  {
   "cell_type": "code",
   "execution_count": null,
   "id": "babdae31-9dae-477b-973e-d1da4d83e852",
   "metadata": {},
   "outputs": [
    {
     "ename": "",
     "evalue": "",
     "output_type": "error",
     "traceback": [
      "\u001b[1;31mRunning cells with 'c:\\Users\\aayaan\\Desktop\\Projects\\ML\\Boston-House-Prices\\venv\\python.exe' requires the ipykernel package.\n",
      "\u001b[1;31mRun the following command to install 'ipykernel' into the Python environment. \n",
      "\u001b[1;31mCommand: 'conda install -p c:\\Users\\aayaan\\Desktop\\Projects\\ML\\Boston-House-Prices\\venv ipykernel --update-deps --force-reinstall'"
     ]
    }
   ],
   "source": [
    "boston.keys()"
   ]
  },
  {
   "cell_type": "code",
   "execution_count": null,
   "id": "57b9670e-5bfc-449a-bb1d-ea6d8d0f1483",
   "metadata": {},
   "outputs": [
    {
     "ename": "",
     "evalue": "",
     "output_type": "error",
     "traceback": [
      "\u001b[1;31mRunning cells with 'c:\\Users\\aayaan\\Desktop\\Projects\\ML\\Boston-House-Prices\\venv\\python.exe' requires the ipykernel package.\n",
      "\u001b[1;31mRun the following command to install 'ipykernel' into the Python environment. \n",
      "\u001b[1;31mCommand: 'conda install -p c:\\Users\\aayaan\\Desktop\\Projects\\ML\\Boston-House-Prices\\venv ipykernel --update-deps --force-reinstall'"
     ]
    }
   ],
   "source": [
    "## Lets check the description of the dataset\n",
    "print(boston.DESCR)"
   ]
  },
  {
   "cell_type": "code",
   "execution_count": null,
   "id": "b9d73063-fb7c-48df-8a59-37bf36f7f44b",
   "metadata": {},
   "outputs": [
    {
     "ename": "",
     "evalue": "",
     "output_type": "error",
     "traceback": [
      "\u001b[1;31mRunning cells with 'c:\\Users\\aayaan\\Desktop\\Projects\\ML\\Boston-House-Prices\\venv\\python.exe' requires the ipykernel package.\n",
      "\u001b[1;31mRun the following command to install 'ipykernel' into the Python environment. \n",
      "\u001b[1;31mCommand: 'conda install -p c:\\Users\\aayaan\\Desktop\\Projects\\ML\\Boston-House-Prices\\venv ipykernel --update-deps --force-reinstall'"
     ]
    }
   ],
   "source": [
    "print(boston.data)"
   ]
  },
  {
   "cell_type": "code",
   "execution_count": null,
   "id": "15d71f98-b4aa-48ae-abf9-485ae0b5a4df",
   "metadata": {},
   "outputs": [
    {
     "ename": "",
     "evalue": "",
     "output_type": "error",
     "traceback": [
      "\u001b[1;31mRunning cells with 'c:\\Users\\aayaan\\Desktop\\Projects\\ML\\Boston-House-Prices\\venv\\python.exe' requires the ipykernel package.\n",
      "\u001b[1;31mRun the following command to install 'ipykernel' into the Python environment. \n",
      "\u001b[1;31mCommand: 'conda install -p c:\\Users\\aayaan\\Desktop\\Projects\\ML\\Boston-House-Prices\\venv ipykernel --update-deps --force-reinstall'"
     ]
    }
   ],
   "source": [
    "print(boston.target)"
   ]
  },
  {
   "cell_type": "code",
   "execution_count": null,
   "id": "1d377c9b-502f-4fb0-9174-3f991611b1d2",
   "metadata": {},
   "outputs": [
    {
     "ename": "",
     "evalue": "",
     "output_type": "error",
     "traceback": [
      "\u001b[1;31mRunning cells with 'c:\\Users\\aayaan\\Desktop\\Projects\\ML\\Boston-House-Prices\\venv\\python.exe' requires the ipykernel package.\n",
      "\u001b[1;31mRun the following command to install 'ipykernel' into the Python environment. \n",
      "\u001b[1;31mCommand: 'conda install -p c:\\Users\\aayaan\\Desktop\\Projects\\ML\\Boston-House-Prices\\venv ipykernel --update-deps --force-reinstall'"
     ]
    }
   ],
   "source": [
    "boston.feature_names"
   ]
  },
  {
   "cell_type": "markdown",
   "id": "cb793672-71bc-4b6d-a4b5-d35ffaed191e",
   "metadata": {},
   "source": [
    "## Preparing the Dataset"
   ]
  },
  {
   "cell_type": "code",
   "execution_count": null,
   "id": "4d229a8f-6eda-4c52-8cdf-5a6cf7107973",
   "metadata": {},
   "outputs": [
    {
     "ename": "",
     "evalue": "",
     "output_type": "error",
     "traceback": [
      "\u001b[1;31mRunning cells with 'c:\\Users\\aayaan\\Desktop\\Projects\\ML\\Boston-House-Prices\\venv\\python.exe' requires the ipykernel package.\n",
      "\u001b[1;31mRun the following command to install 'ipykernel' into the Python environment. \n",
      "\u001b[1;31mCommand: 'conda install -p c:\\Users\\aayaan\\Desktop\\Projects\\ML\\Boston-House-Prices\\venv ipykernel --update-deps --force-reinstall'"
     ]
    }
   ],
   "source": [
    "dataset = pd.DataFrame(boston.data,columns=boston.feature_names)"
   ]
  },
  {
   "cell_type": "code",
   "execution_count": null,
   "id": "c23d062c-86f0-47b0-ad03-796480c3b0f3",
   "metadata": {},
   "outputs": [
    {
     "ename": "",
     "evalue": "",
     "output_type": "error",
     "traceback": [
      "\u001b[1;31mRunning cells with 'c:\\Users\\aayaan\\Desktop\\Projects\\ML\\Boston-House-Prices\\venv\\python.exe' requires the ipykernel package.\n",
      "\u001b[1;31mRun the following command to install 'ipykernel' into the Python environment. \n",
      "\u001b[1;31mCommand: 'conda install -p c:\\Users\\aayaan\\Desktop\\Projects\\ML\\Boston-House-Prices\\venv ipykernel --update-deps --force-reinstall'"
     ]
    }
   ],
   "source": [
    "dataset.head()"
   ]
  },
  {
   "cell_type": "code",
   "execution_count": null,
   "id": "89e5d187-2d05-4ab4-b583-af5cd8e9f64c",
   "metadata": {},
   "outputs": [
    {
     "ename": "",
     "evalue": "",
     "output_type": "error",
     "traceback": [
      "\u001b[1;31mRunning cells with 'c:\\Users\\aayaan\\Desktop\\Projects\\ML\\Boston-House-Prices\\venv\\python.exe' requires the ipykernel package.\n",
      "\u001b[1;31mRun the following command to install 'ipykernel' into the Python environment. \n",
      "\u001b[1;31mCommand: 'conda install -p c:\\Users\\aayaan\\Desktop\\Projects\\ML\\Boston-House-Prices\\venv ipykernel --update-deps --force-reinstall'"
     ]
    }
   ],
   "source": [
    "dataset['Price'] = boston.target"
   ]
  },
  {
   "cell_type": "code",
   "execution_count": null,
   "id": "0d8b22dc-4022-4603-853f-d2aee12db45a",
   "metadata": {},
   "outputs": [
    {
     "ename": "",
     "evalue": "",
     "output_type": "error",
     "traceback": [
      "\u001b[1;31mRunning cells with 'c:\\Users\\aayaan\\Desktop\\Projects\\ML\\Boston-House-Prices\\venv\\python.exe' requires the ipykernel package.\n",
      "\u001b[1;31mRun the following command to install 'ipykernel' into the Python environment. \n",
      "\u001b[1;31mCommand: 'conda install -p c:\\Users\\aayaan\\Desktop\\Projects\\ML\\Boston-House-Prices\\venv ipykernel --update-deps --force-reinstall'"
     ]
    }
   ],
   "source": [
    "dataset.head()"
   ]
  },
  {
   "cell_type": "code",
   "execution_count": null,
   "id": "9f34559c-7df3-47d0-88f4-78a3534f9084",
   "metadata": {},
   "outputs": [
    {
     "ename": "",
     "evalue": "",
     "output_type": "error",
     "traceback": [
      "\u001b[1;31mRunning cells with 'c:\\Users\\aayaan\\Desktop\\Projects\\ML\\Boston-House-Prices\\venv\\python.exe' requires the ipykernel package.\n",
      "\u001b[1;31mRun the following command to install 'ipykernel' into the Python environment. \n",
      "\u001b[1;31mCommand: 'conda install -p c:\\Users\\aayaan\\Desktop\\Projects\\ML\\Boston-House-Prices\\venv ipykernel --update-deps --force-reinstall'"
     ]
    }
   ],
   "source": [
    "dataset.info()"
   ]
  },
  {
   "cell_type": "code",
   "execution_count": null,
   "id": "8f2c97a0-70f5-4246-a305-a02a9c201820",
   "metadata": {},
   "outputs": [
    {
     "ename": "",
     "evalue": "",
     "output_type": "error",
     "traceback": [
      "\u001b[1;31mRunning cells with 'c:\\Users\\aayaan\\Desktop\\Projects\\ML\\Boston-House-Prices\\venv\\python.exe' requires the ipykernel package.\n",
      "\u001b[1;31mRun the following command to install 'ipykernel' into the Python environment. \n",
      "\u001b[1;31mCommand: 'conda install -p c:\\Users\\aayaan\\Desktop\\Projects\\ML\\Boston-House-Prices\\venv ipykernel --update-deps --force-reinstall'"
     ]
    }
   ],
   "source": [
    "dataset.shape"
   ]
  },
  {
   "cell_type": "code",
   "execution_count": null,
   "id": "4394ad3a-a02f-4646-82c0-35b9c60dc86b",
   "metadata": {},
   "outputs": [
    {
     "ename": "",
     "evalue": "",
     "output_type": "error",
     "traceback": [
      "\u001b[1;31mRunning cells with 'c:\\Users\\aayaan\\Desktop\\Projects\\ML\\Boston-House-Prices\\venv\\python.exe' requires the ipykernel package.\n",
      "\u001b[1;31mRun the following command to install 'ipykernel' into the Python environment. \n",
      "\u001b[1;31mCommand: 'conda install -p c:\\Users\\aayaan\\Desktop\\Projects\\ML\\Boston-House-Prices\\venv ipykernel --update-deps --force-reinstall'"
     ]
    }
   ],
   "source": [
    "## Summarizing the stats of the data\n",
    "dataset.describe()"
   ]
  },
  {
   "cell_type": "code",
   "execution_count": null,
   "id": "31795dbb-d83e-4a8a-85be-6c265304edcb",
   "metadata": {},
   "outputs": [
    {
     "ename": "",
     "evalue": "",
     "output_type": "error",
     "traceback": [
      "\u001b[1;31mRunning cells with 'c:\\Users\\aayaan\\Desktop\\Projects\\ML\\Boston-House-Prices\\venv\\python.exe' requires the ipykernel package.\n",
      "\u001b[1;31mRun the following command to install 'ipykernel' into the Python environment. \n",
      "\u001b[1;31mCommand: 'conda install -p c:\\Users\\aayaan\\Desktop\\Projects\\ML\\Boston-House-Prices\\venv ipykernel --update-deps --force-reinstall'"
     ]
    }
   ],
   "source": [
    "## Check the missing values\n",
    "dataset.isnull().sum()"
   ]
  },
  {
   "cell_type": "code",
   "execution_count": null,
   "id": "c1a1ef5b-55bf-45e7-add0-45dad9184a0d",
   "metadata": {},
   "outputs": [
    {
     "ename": "",
     "evalue": "",
     "output_type": "error",
     "traceback": [
      "\u001b[1;31mRunning cells with 'c:\\Users\\aayaan\\Desktop\\Projects\\ML\\Boston-House-Prices\\venv\\python.exe' requires the ipykernel package.\n",
      "\u001b[1;31mRun the following command to install 'ipykernel' into the Python environment. \n",
      "\u001b[1;31mCommand: 'conda install -p c:\\Users\\aayaan\\Desktop\\Projects\\ML\\Boston-House-Prices\\venv ipykernel --update-deps --force-reinstall'"
     ]
    }
   ],
   "source": [
    "### Exploratory Data Analysis\n",
    "## Correlation\n",
    "\n",
    "dataset.corr()"
   ]
  },
  {
   "cell_type": "markdown",
   "id": "1cefe6ac-2501-4440-9b3f-b0157d6e6915",
   "metadata": {},
   "source": [
    "## Analysing the Correlated Features"
   ]
  },
  {
   "cell_type": "code",
   "execution_count": null,
   "id": "49d336aa-36a5-47d6-a96d-78958550c47b",
   "metadata": {},
   "outputs": [
    {
     "ename": "",
     "evalue": "",
     "output_type": "error",
     "traceback": [
      "\u001b[1;31mRunning cells with 'c:\\Users\\aayaan\\Desktop\\Projects\\ML\\Boston-House-Prices\\venv\\python.exe' requires the ipykernel package.\n",
      "\u001b[1;31mRun the following command to install 'ipykernel' into the Python environment. \n",
      "\u001b[1;31mCommand: 'conda install -p c:\\Users\\aayaan\\Desktop\\Projects\\ML\\Boston-House-Prices\\venv ipykernel --update-deps --force-reinstall'"
     ]
    }
   ],
   "source": [
    "plt.scatter(dataset['CRIM'], dataset['Price'])\n",
    "plt.xlabel(\"Crime Rate\")\n",
    "plt.ylabel(\"Price\")\n",
    "plt.show()"
   ]
  },
  {
   "cell_type": "code",
   "execution_count": null,
   "id": "1c4dff40-e48e-461f-a549-1725ac0eb8d9",
   "metadata": {},
   "outputs": [
    {
     "ename": "",
     "evalue": "",
     "output_type": "error",
     "traceback": [
      "\u001b[1;31mRunning cells with 'c:\\Users\\aayaan\\Desktop\\Projects\\ML\\Boston-House-Prices\\venv\\python.exe' requires the ipykernel package.\n",
      "\u001b[1;31mRun the following command to install 'ipykernel' into the Python environment. \n",
      "\u001b[1;31mCommand: 'conda install -p c:\\Users\\aayaan\\Desktop\\Projects\\ML\\Boston-House-Prices\\venv ipykernel --update-deps --force-reinstall'"
     ]
    }
   ],
   "source": [
    "plt.scatter(dataset['RM'], dataset['Price'])\n",
    "plt.xlabel(\"RM\")\n",
    "plt.ylabel(\"Price\")\n",
    "plt.show()"
   ]
  },
  {
   "cell_type": "code",
   "execution_count": null,
   "id": "e4e3b7d7-9ee2-429f-8e3f-8e1d892609ed",
   "metadata": {},
   "outputs": [
    {
     "ename": "",
     "evalue": "",
     "output_type": "error",
     "traceback": [
      "\u001b[1;31mRunning cells with 'c:\\Users\\aayaan\\Desktop\\Projects\\ML\\Boston-House-Prices\\venv\\python.exe' requires the ipykernel package.\n",
      "\u001b[1;31mRun the following command to install 'ipykernel' into the Python environment. \n",
      "\u001b[1;31mCommand: 'conda install -p c:\\Users\\aayaan\\Desktop\\Projects\\ML\\Boston-House-Prices\\venv ipykernel --update-deps --force-reinstall'"
     ]
    }
   ],
   "source": [
    "import seaborn as sns\n",
    "sns.regplot(x = \"RM\", y = \"Price\", data = dataset)"
   ]
  },
  {
   "cell_type": "code",
   "execution_count": null,
   "id": "0d1fe9a3-a71c-4165-a242-00db18ebe47c",
   "metadata": {},
   "outputs": [
    {
     "ename": "",
     "evalue": "",
     "output_type": "error",
     "traceback": [
      "\u001b[1;31mRunning cells with 'c:\\Users\\aayaan\\Desktop\\Projects\\ML\\Boston-House-Prices\\venv\\python.exe' requires the ipykernel package.\n",
      "\u001b[1;31mRun the following command to install 'ipykernel' into the Python environment. \n",
      "\u001b[1;31mCommand: 'conda install -p c:\\Users\\aayaan\\Desktop\\Projects\\ML\\Boston-House-Prices\\venv ipykernel --update-deps --force-reinstall'"
     ]
    }
   ],
   "source": [
    "sns.regplot(x = \"LSTAT\",y = \"Price\", data = dataset)"
   ]
  },
  {
   "cell_type": "code",
   "execution_count": null,
   "id": "d7964bf3-c72f-44c3-99ca-326d3c77180b",
   "metadata": {},
   "outputs": [
    {
     "ename": "",
     "evalue": "",
     "output_type": "error",
     "traceback": [
      "\u001b[1;31mRunning cells with 'c:\\Users\\aayaan\\Desktop\\Projects\\ML\\Boston-House-Prices\\venv\\python.exe' requires the ipykernel package.\n",
      "\u001b[1;31mRun the following command to install 'ipykernel' into the Python environment. \n",
      "\u001b[1;31mCommand: 'conda install -p c:\\Users\\aayaan\\Desktop\\Projects\\ML\\Boston-House-Prices\\venv ipykernel --update-deps --force-reinstall'"
     ]
    }
   ],
   "source": [
    "sns.regplot(x = \"CHAS\",y = \"Price\", data = dataset)"
   ]
  },
  {
   "cell_type": "code",
   "execution_count": null,
   "id": "ee2f628f-3f71-42e6-922a-c24ce505a0cb",
   "metadata": {},
   "outputs": [
    {
     "ename": "",
     "evalue": "",
     "output_type": "error",
     "traceback": [
      "\u001b[1;31mRunning cells with 'c:\\Users\\aayaan\\Desktop\\Projects\\ML\\Boston-House-Prices\\venv\\python.exe' requires the ipykernel package.\n",
      "\u001b[1;31mRun the following command to install 'ipykernel' into the Python environment. \n",
      "\u001b[1;31mCommand: 'conda install -p c:\\Users\\aayaan\\Desktop\\Projects\\ML\\Boston-House-Prices\\venv ipykernel --update-deps --force-reinstall'"
     ]
    }
   ],
   "source": [
    "sns.regplot(x = \"PTRATIO\",y = \"Price\", data = dataset)"
   ]
  },
  {
   "cell_type": "code",
   "execution_count": null,
   "id": "544c6d69-460e-4ba8-9955-082b4bf0af58",
   "metadata": {},
   "outputs": [
    {
     "ename": "",
     "evalue": "",
     "output_type": "error",
     "traceback": [
      "\u001b[1;31mRunning cells with 'c:\\Users\\aayaan\\Desktop\\Projects\\ML\\Boston-House-Prices\\venv\\python.exe' requires the ipykernel package.\n",
      "\u001b[1;31mRun the following command to install 'ipykernel' into the Python environment. \n",
      "\u001b[1;31mCommand: 'conda install -p c:\\Users\\aayaan\\Desktop\\Projects\\ML\\Boston-House-Prices\\venv ipykernel --update-deps --force-reinstall'"
     ]
    }
   ],
   "source": [
    "## Independent and Dependent Features\n",
    "\n",
    "X = dataset.iloc[:,:-1]\n",
    "Y = dataset.iloc[:,-1]"
   ]
  },
  {
   "cell_type": "code",
   "execution_count": null,
   "id": "7fbc8978-535f-45c1-a0f1-4adc9fe2ac0d",
   "metadata": {},
   "outputs": [
    {
     "ename": "",
     "evalue": "",
     "output_type": "error",
     "traceback": [
      "\u001b[1;31mRunning cells with 'c:\\Users\\aayaan\\Desktop\\Projects\\ML\\Boston-House-Prices\\venv\\python.exe' requires the ipykernel package.\n",
      "\u001b[1;31mRun the following command to install 'ipykernel' into the Python environment. \n",
      "\u001b[1;31mCommand: 'conda install -p c:\\Users\\aayaan\\Desktop\\Projects\\ML\\Boston-House-Prices\\venv ipykernel --update-deps --force-reinstall'"
     ]
    }
   ],
   "source": [
    "X.head()"
   ]
  },
  {
   "cell_type": "code",
   "execution_count": null,
   "id": "17adf8ff-5853-4799-9055-d8e499270d2e",
   "metadata": {},
   "outputs": [
    {
     "ename": "",
     "evalue": "",
     "output_type": "error",
     "traceback": [
      "\u001b[1;31mRunning cells with 'c:\\Users\\aayaan\\Desktop\\Projects\\ML\\Boston-House-Prices\\venv\\python.exe' requires the ipykernel package.\n",
      "\u001b[1;31mRun the following command to install 'ipykernel' into the Python environment. \n",
      "\u001b[1;31mCommand: 'conda install -p c:\\Users\\aayaan\\Desktop\\Projects\\ML\\Boston-House-Prices\\venv ipykernel --update-deps --force-reinstall'"
     ]
    }
   ],
   "source": [
    "Y.head()"
   ]
  },
  {
   "cell_type": "code",
   "execution_count": null,
   "id": "91e559e2-23d9-49fc-ba9f-c30656c27675",
   "metadata": {},
   "outputs": [
    {
     "ename": "",
     "evalue": "",
     "output_type": "error",
     "traceback": [
      "\u001b[1;31mRunning cells with 'c:\\Users\\aayaan\\Desktop\\Projects\\ML\\Boston-House-Prices\\venv\\python.exe' requires the ipykernel package.\n",
      "\u001b[1;31mRun the following command to install 'ipykernel' into the Python environment. \n",
      "\u001b[1;31mCommand: 'conda install -p c:\\Users\\aayaan\\Desktop\\Projects\\ML\\Boston-House-Prices\\venv ipykernel --update-deps --force-reinstall'"
     ]
    }
   ],
   "source": [
    "## Train, Test Split\n",
    "\n",
    "from sklearn.model_selection import train_test_split\n",
    "X_train, X_test, y_train, y_test = train_test_split(X,Y,test_size = 0.3,random_state=42)"
   ]
  },
  {
   "cell_type": "code",
   "execution_count": null,
   "id": "93f98fd1-dd15-4202-b372-8286c2bb0b40",
   "metadata": {},
   "outputs": [
    {
     "ename": "",
     "evalue": "",
     "output_type": "error",
     "traceback": [
      "\u001b[1;31mRunning cells with 'c:\\Users\\aayaan\\Desktop\\Projects\\ML\\Boston-House-Prices\\venv\\python.exe' requires the ipykernel package.\n",
      "\u001b[1;31mRun the following command to install 'ipykernel' into the Python environment. \n",
      "\u001b[1;31mCommand: 'conda install -p c:\\Users\\aayaan\\Desktop\\Projects\\ML\\Boston-House-Prices\\venv ipykernel --update-deps --force-reinstall'"
     ]
    }
   ],
   "source": [
    "X_train"
   ]
  },
  {
   "cell_type": "code",
   "execution_count": null,
   "id": "e7be8d22-70e3-408b-941f-0c8289d33138",
   "metadata": {},
   "outputs": [
    {
     "ename": "",
     "evalue": "",
     "output_type": "error",
     "traceback": [
      "\u001b[1;31mRunning cells with 'c:\\Users\\aayaan\\Desktop\\Projects\\ML\\Boston-House-Prices\\venv\\python.exe' requires the ipykernel package.\n",
      "\u001b[1;31mRun the following command to install 'ipykernel' into the Python environment. \n",
      "\u001b[1;31mCommand: 'conda install -p c:\\Users\\aayaan\\Desktop\\Projects\\ML\\Boston-House-Prices\\venv ipykernel --update-deps --force-reinstall'"
     ]
    }
   ],
   "source": [
    "y_train"
   ]
  },
  {
   "cell_type": "code",
   "execution_count": null,
   "id": "61eb361b-9a12-4514-b530-98998205b50d",
   "metadata": {},
   "outputs": [
    {
     "ename": "",
     "evalue": "",
     "output_type": "error",
     "traceback": [
      "\u001b[1;31mRunning cells with 'c:\\Users\\aayaan\\Desktop\\Projects\\ML\\Boston-House-Prices\\venv\\python.exe' requires the ipykernel package.\n",
      "\u001b[1;31mRun the following command to install 'ipykernel' into the Python environment. \n",
      "\u001b[1;31mCommand: 'conda install -p c:\\Users\\aayaan\\Desktop\\Projects\\ML\\Boston-House-Prices\\venv ipykernel --update-deps --force-reinstall'"
     ]
    }
   ],
   "source": [
    "## Standardize the dataset\n",
    "\n",
    "from sklearn.preprocessing import StandardScaler\n",
    "scaler = StandardScaler()"
   ]
  },
  {
   "cell_type": "code",
   "execution_count": null,
   "id": "731e6804-d267-42a5-83ed-5d993cf39aeb",
   "metadata": {},
   "outputs": [
    {
     "ename": "",
     "evalue": "",
     "output_type": "error",
     "traceback": [
      "\u001b[1;31mRunning cells with 'c:\\Users\\aayaan\\Desktop\\Projects\\ML\\Boston-House-Prices\\venv\\python.exe' requires the ipykernel package.\n",
      "\u001b[1;31mRun the following command to install 'ipykernel' into the Python environment. \n",
      "\u001b[1;31mCommand: 'conda install -p c:\\Users\\aayaan\\Desktop\\Projects\\ML\\Boston-House-Prices\\venv ipykernel --update-deps --force-reinstall'"
     ]
    }
   ],
   "source": [
    "X_train = scaler.fit_transform(X_train)"
   ]
  },
  {
   "cell_type": "code",
   "execution_count": null,
   "id": "e97db9be-6e61-4d3e-b436-5f9a946f1528",
   "metadata": {},
   "outputs": [
    {
     "ename": "",
     "evalue": "",
     "output_type": "error",
     "traceback": [
      "\u001b[1;31mRunning cells with 'c:\\Users\\aayaan\\Desktop\\Projects\\ML\\Boston-House-Prices\\venv\\python.exe' requires the ipykernel package.\n",
      "\u001b[1;31mRun the following command to install 'ipykernel' into the Python environment. \n",
      "\u001b[1;31mCommand: 'conda install -p c:\\Users\\aayaan\\Desktop\\Projects\\ML\\Boston-House-Prices\\venv ipykernel --update-deps --force-reinstall'"
     ]
    }
   ],
   "source": [
    "X_train"
   ]
  },
  {
   "cell_type": "code",
   "execution_count": null,
   "id": "d3236e08-3395-43aa-98d6-03026bf4798e",
   "metadata": {},
   "outputs": [
    {
     "ename": "",
     "evalue": "",
     "output_type": "error",
     "traceback": [
      "\u001b[1;31mRunning cells with 'c:\\Users\\aayaan\\Desktop\\Projects\\ML\\Boston-House-Prices\\venv\\python.exe' requires the ipykernel package.\n",
      "\u001b[1;31mRun the following command to install 'ipykernel' into the Python environment. \n",
      "\u001b[1;31mCommand: 'conda install -p c:\\Users\\aayaan\\Desktop\\Projects\\ML\\Boston-House-Prices\\venv ipykernel --update-deps --force-reinstall'"
     ]
    }
   ],
   "source": [
    "X_test = scaler.transform(X_test)"
   ]
  },
  {
   "cell_type": "code",
   "execution_count": null,
   "id": "63f80cc3-b72f-46e6-a5cd-d536059dabad",
   "metadata": {},
   "outputs": [
    {
     "ename": "",
     "evalue": "",
     "output_type": "error",
     "traceback": [
      "\u001b[1;31mRunning cells with 'c:\\Users\\aayaan\\Desktop\\Projects\\ML\\Boston-House-Prices\\venv\\python.exe' requires the ipykernel package.\n",
      "\u001b[1;31mRun the following command to install 'ipykernel' into the Python environment. \n",
      "\u001b[1;31mCommand: 'conda install -p c:\\Users\\aayaan\\Desktop\\Projects\\ML\\Boston-House-Prices\\venv ipykernel --update-deps --force-reinstall'"
     ]
    }
   ],
   "source": [
    "X_test"
   ]
  },
  {
   "cell_type": "markdown",
   "id": "50bfe2ed-8174-4497-9c58-c5763468f5b7",
   "metadata": {},
   "source": [
    "## Model Training"
   ]
  },
  {
   "cell_type": "code",
   "execution_count": null,
   "id": "28c3bfb6-0bc1-4929-8997-ae368086f293",
   "metadata": {},
   "outputs": [
    {
     "ename": "",
     "evalue": "",
     "output_type": "error",
     "traceback": [
      "\u001b[1;31mRunning cells with 'c:\\Users\\aayaan\\Desktop\\Projects\\ML\\Boston-House-Prices\\venv\\python.exe' requires the ipykernel package.\n",
      "\u001b[1;31mRun the following command to install 'ipykernel' into the Python environment. \n",
      "\u001b[1;31mCommand: 'conda install -p c:\\Users\\aayaan\\Desktop\\Projects\\ML\\Boston-House-Prices\\venv ipykernel --update-deps --force-reinstall'"
     ]
    }
   ],
   "source": [
    "from sklearn.linear_model import LinearRegression"
   ]
  },
  {
   "cell_type": "code",
   "execution_count": null,
   "id": "a20c6ec8-9a37-4cc2-b14a-04c5a3c105c8",
   "metadata": {},
   "outputs": [
    {
     "ename": "",
     "evalue": "",
     "output_type": "error",
     "traceback": [
      "\u001b[1;31mRunning cells with 'c:\\Users\\aayaan\\Desktop\\Projects\\ML\\Boston-House-Prices\\venv\\python.exe' requires the ipykernel package.\n",
      "\u001b[1;31mRun the following command to install 'ipykernel' into the Python environment. \n",
      "\u001b[1;31mCommand: 'conda install -p c:\\Users\\aayaan\\Desktop\\Projects\\ML\\Boston-House-Prices\\venv ipykernel --update-deps --force-reinstall'"
     ]
    }
   ],
   "source": [
    "regression = LinearRegression()"
   ]
  },
  {
   "cell_type": "code",
   "execution_count": null,
   "id": "beca2753-50c5-4774-8790-9efdfdb832b9",
   "metadata": {},
   "outputs": [
    {
     "ename": "",
     "evalue": "",
     "output_type": "error",
     "traceback": [
      "\u001b[1;31mRunning cells with 'c:\\Users\\aayaan\\Desktop\\Projects\\ML\\Boston-House-Prices\\venv\\python.exe' requires the ipykernel package.\n",
      "\u001b[1;31mRun the following command to install 'ipykernel' into the Python environment. \n",
      "\u001b[1;31mCommand: 'conda install -p c:\\Users\\aayaan\\Desktop\\Projects\\ML\\Boston-House-Prices\\venv ipykernel --update-deps --force-reinstall'"
     ]
    }
   ],
   "source": [
    "regression.fit(X_train,y_train)"
   ]
  },
  {
   "cell_type": "code",
   "execution_count": null,
   "id": "f4c84930-745c-4ae0-9b38-9d887b6acf39",
   "metadata": {},
   "outputs": [
    {
     "ename": "",
     "evalue": "",
     "output_type": "error",
     "traceback": [
      "\u001b[1;31mRunning cells with 'c:\\Users\\aayaan\\Desktop\\Projects\\ML\\Boston-House-Prices\\venv\\python.exe' requires the ipykernel package.\n",
      "\u001b[1;31mRun the following command to install 'ipykernel' into the Python environment. \n",
      "\u001b[1;31mCommand: 'conda install -p c:\\Users\\aayaan\\Desktop\\Projects\\ML\\Boston-House-Prices\\venv ipykernel --update-deps --force-reinstall'"
     ]
    }
   ],
   "source": [
    "## print the coefficients and the intercept\n",
    "print(regression.coef_)"
   ]
  },
  {
   "cell_type": "code",
   "execution_count": null,
   "id": "153d6f71-4884-40a0-a427-606d7d615faf",
   "metadata": {},
   "outputs": [
    {
     "ename": "",
     "evalue": "",
     "output_type": "error",
     "traceback": [
      "\u001b[1;31mRunning cells with 'c:\\Users\\aayaan\\Desktop\\Projects\\ML\\Boston-House-Prices\\venv\\python.exe' requires the ipykernel package.\n",
      "\u001b[1;31mRun the following command to install 'ipykernel' into the Python environment. \n",
      "\u001b[1;31mCommand: 'conda install -p c:\\Users\\aayaan\\Desktop\\Projects\\ML\\Boston-House-Prices\\venv ipykernel --update-deps --force-reinstall'"
     ]
    }
   ],
   "source": [
    "print(regression.intercept_)"
   ]
  },
  {
   "cell_type": "code",
   "execution_count": null,
   "id": "d295771d-3d18-4590-a25d-271c8c618410",
   "metadata": {},
   "outputs": [
    {
     "ename": "",
     "evalue": "",
     "output_type": "error",
     "traceback": [
      "\u001b[1;31mRunning cells with 'c:\\Users\\aayaan\\Desktop\\Projects\\ML\\Boston-House-Prices\\venv\\python.exe' requires the ipykernel package.\n",
      "\u001b[1;31mRun the following command to install 'ipykernel' into the Python environment. \n",
      "\u001b[1;31mCommand: 'conda install -p c:\\Users\\aayaan\\Desktop\\Projects\\ML\\Boston-House-Prices\\venv ipykernel --update-deps --force-reinstall'"
     ]
    }
   ],
   "source": [
    "## on which parameters the model has been trained\n",
    "regression.get_params()"
   ]
  },
  {
   "cell_type": "code",
   "execution_count": null,
   "id": "aad58618-994a-404d-bf81-6360ef238ace",
   "metadata": {},
   "outputs": [
    {
     "ename": "",
     "evalue": "",
     "output_type": "error",
     "traceback": [
      "\u001b[1;31mRunning cells with 'c:\\Users\\aayaan\\Desktop\\Projects\\ML\\Boston-House-Prices\\venv\\python.exe' requires the ipykernel package.\n",
      "\u001b[1;31mRun the following command to install 'ipykernel' into the Python environment. \n",
      "\u001b[1;31mCommand: 'conda install -p c:\\Users\\aayaan\\Desktop\\Projects\\ML\\Boston-House-Prices\\venv ipykernel --update-deps --force-reinstall'"
     ]
    }
   ],
   "source": [
    "### Prediction with Test Data\n",
    "reg_pred = regression.predict(X_test)"
   ]
  },
  {
   "cell_type": "code",
   "execution_count": null,
   "id": "4b7f6903-4b98-495a-ab86-2c5e1457e5f3",
   "metadata": {},
   "outputs": [
    {
     "ename": "",
     "evalue": "",
     "output_type": "error",
     "traceback": [
      "\u001b[1;31mRunning cells with 'c:\\Users\\aayaan\\Desktop\\Projects\\ML\\Boston-House-Prices\\venv\\python.exe' requires the ipykernel package.\n",
      "\u001b[1;31mRun the following command to install 'ipykernel' into the Python environment. \n",
      "\u001b[1;31mCommand: 'conda install -p c:\\Users\\aayaan\\Desktop\\Projects\\ML\\Boston-House-Prices\\venv ipykernel --update-deps --force-reinstall'"
     ]
    }
   ],
   "source": [
    "reg_pred"
   ]
  },
  {
   "cell_type": "markdown",
   "id": "8ac08fab-3bf6-47a1-98fc-ccc4ccd84556",
   "metadata": {},
   "source": [
    "## Assumptions"
   ]
  },
  {
   "cell_type": "code",
   "execution_count": null,
   "id": "51e91698-0cc6-4022-b255-98d3ddafce04",
   "metadata": {},
   "outputs": [
    {
     "ename": "",
     "evalue": "",
     "output_type": "error",
     "traceback": [
      "\u001b[1;31mRunning cells with 'c:\\Users\\aayaan\\Desktop\\Projects\\ML\\Boston-House-Prices\\venv\\python.exe' requires the ipykernel package.\n",
      "\u001b[1;31mRun the following command to install 'ipykernel' into the Python environment. \n",
      "\u001b[1;31mCommand: 'conda install -p c:\\Users\\aayaan\\Desktop\\Projects\\ML\\Boston-House-Prices\\venv ipykernel --update-deps --force-reinstall'"
     ]
    }
   ],
   "source": [
    "## plot a scatter plot for the prediction\n",
    "plt.scatter(y_test,reg_pred)"
   ]
  },
  {
   "cell_type": "code",
   "execution_count": null,
   "id": "e6d6e9f9-f788-42a5-828d-4df5748141b1",
   "metadata": {},
   "outputs": [
    {
     "ename": "",
     "evalue": "",
     "output_type": "error",
     "traceback": [
      "\u001b[1;31mRunning cells with 'c:\\Users\\aayaan\\Desktop\\Projects\\ML\\Boston-House-Prices\\venv\\python.exe' requires the ipykernel package.\n",
      "\u001b[1;31mRun the following command to install 'ipykernel' into the Python environment. \n",
      "\u001b[1;31mCommand: 'conda install -p c:\\Users\\aayaan\\Desktop\\Projects\\ML\\Boston-House-Prices\\venv ipykernel --update-deps --force-reinstall'"
     ]
    }
   ],
   "source": [
    "## Residuals/Errors\n",
    "residuals = y_test - reg_pred"
   ]
  },
  {
   "cell_type": "code",
   "execution_count": null,
   "id": "6514755f-da11-4908-b99b-292da92d00b5",
   "metadata": {},
   "outputs": [
    {
     "ename": "",
     "evalue": "",
     "output_type": "error",
     "traceback": [
      "\u001b[1;31mRunning cells with 'c:\\Users\\aayaan\\Desktop\\Projects\\ML\\Boston-House-Prices\\venv\\python.exe' requires the ipykernel package.\n",
      "\u001b[1;31mRun the following command to install 'ipykernel' into the Python environment. \n",
      "\u001b[1;31mCommand: 'conda install -p c:\\Users\\aayaan\\Desktop\\Projects\\ML\\Boston-House-Prices\\venv ipykernel --update-deps --force-reinstall'"
     ]
    }
   ],
   "source": [
    "residuals"
   ]
  },
  {
   "cell_type": "code",
   "execution_count": null,
   "id": "7591db0c-eb02-4a70-ad55-9b312e8beba8",
   "metadata": {},
   "outputs": [
    {
     "ename": "",
     "evalue": "",
     "output_type": "error",
     "traceback": [
      "\u001b[1;31mRunning cells with 'c:\\Users\\aayaan\\Desktop\\Projects\\ML\\Boston-House-Prices\\venv\\python.exe' requires the ipykernel package.\n",
      "\u001b[1;31mRun the following command to install 'ipykernel' into the Python environment. \n",
      "\u001b[1;31mCommand: 'conda install -p c:\\Users\\aayaan\\Desktop\\Projects\\ML\\Boston-House-Prices\\venv ipykernel --update-deps --force-reinstall'"
     ]
    }
   ],
   "source": [
    "## Plot this residucals\n",
    "\n",
    "sns.displot(residuals,kind=\"kde\")"
   ]
  },
  {
   "cell_type": "code",
   "execution_count": null,
   "id": "46e3efad-fada-4e3b-a44b-166e28ecc431",
   "metadata": {},
   "outputs": [
    {
     "ename": "",
     "evalue": "",
     "output_type": "error",
     "traceback": [
      "\u001b[1;31mRunning cells with 'c:\\Users\\aayaan\\Desktop\\Projects\\ML\\Boston-House-Prices\\venv\\python.exe' requires the ipykernel package.\n",
      "\u001b[1;31mRun the following command to install 'ipykernel' into the Python environment. \n",
      "\u001b[1;31mCommand: 'conda install -p c:\\Users\\aayaan\\Desktop\\Projects\\ML\\Boston-House-Prices\\venv ipykernel --update-deps --force-reinstall'"
     ]
    }
   ],
   "source": [
    "## Scatter plot with respect to prediction and residuals\n",
    "## uniform distribution\n",
    "plt.scatter(reg_pred,residuals)"
   ]
  },
  {
   "cell_type": "code",
   "execution_count": null,
   "id": "6fed2f2a-b738-42a3-8233-bb0f6cad25e9",
   "metadata": {},
   "outputs": [
    {
     "ename": "",
     "evalue": "",
     "output_type": "error",
     "traceback": [
      "\u001b[1;31mRunning cells with 'c:\\Users\\aayaan\\Desktop\\Projects\\ML\\Boston-House-Prices\\venv\\python.exe' requires the ipykernel package.\n",
      "\u001b[1;31mRun the following command to install 'ipykernel' into the Python environment. \n",
      "\u001b[1;31mCommand: 'conda install -p c:\\Users\\aayaan\\Desktop\\Projects\\ML\\Boston-House-Prices\\venv ipykernel --update-deps --force-reinstall'"
     ]
    }
   ],
   "source": [
    "from sklearn.metrics import mean_squared_error\n",
    "from sklearn.metrics import mean_absolute_error\n",
    "\n",
    "print(mean_absolute_error(y_test,reg_pred))\n",
    "print(mean_squared_error(y_test,reg_pred))\n",
    "print(np.sqrt(mean_squared_error(y_test,reg_pred)))"
   ]
  },
  {
   "cell_type": "markdown",
   "id": "bec1532d-a349-47f7-8a14-77fdc737115b",
   "metadata": {},
   "source": [
    "## R square and adjusted R square"
   ]
  },
  {
   "cell_type": "code",
   "execution_count": null,
   "id": "0699c9cf-23da-4611-8fcf-4a9e2745b77b",
   "metadata": {},
   "outputs": [
    {
     "ename": "",
     "evalue": "",
     "output_type": "error",
     "traceback": [
      "\u001b[1;31mRunning cells with 'c:\\Users\\aayaan\\Desktop\\Projects\\ML\\Boston-House-Prices\\venv\\python.exe' requires the ipykernel package.\n",
      "\u001b[1;31mRun the following command to install 'ipykernel' into the Python environment. \n",
      "\u001b[1;31mCommand: 'conda install -p c:\\Users\\aayaan\\Desktop\\Projects\\ML\\Boston-House-Prices\\venv ipykernel --update-deps --force-reinstall'"
     ]
    }
   ],
   "source": [
    "## R square\n",
    "\n",
    "from sklearn.metrics import r2_score\n",
    "score = r2_score(y_test,reg_pred)\n",
    "print(score)"
   ]
  },
  {
   "cell_type": "code",
   "execution_count": null,
   "id": "ad4119c7-9fbb-4cfc-9a3d-23dcb48816c7",
   "metadata": {},
   "outputs": [
    {
     "ename": "",
     "evalue": "",
     "output_type": "error",
     "traceback": [
      "\u001b[1;31mRunning cells with 'c:\\Users\\aayaan\\Desktop\\Projects\\ML\\Boston-House-Prices\\venv\\python.exe' requires the ipykernel package.\n",
      "\u001b[1;31mRun the following command to install 'ipykernel' into the Python environment. \n",
      "\u001b[1;31mCommand: 'conda install -p c:\\Users\\aayaan\\Desktop\\Projects\\ML\\Boston-House-Prices\\venv ipykernel --update-deps --force-reinstall'"
     ]
    }
   ],
   "source": [
    "## Adjusted R square\n",
    "\n",
    "1 - (1-score)*(len(y_test)-1)/(len(y_test) - X_test.shape[1] - 1)"
   ]
  },
  {
   "cell_type": "markdown",
   "id": "55d807cc-00ae-4b91-986d-fe5651e4fb0e",
   "metadata": {},
   "source": [
    "## New Data Prediction"
   ]
  },
  {
   "cell_type": "code",
   "execution_count": null,
   "id": "9f00ee9e-1620-4818-bee0-e34f4682e8fc",
   "metadata": {},
   "outputs": [
    {
     "ename": "",
     "evalue": "",
     "output_type": "error",
     "traceback": [
      "\u001b[1;31mRunning cells with 'c:\\Users\\aayaan\\Desktop\\Projects\\ML\\Boston-House-Prices\\venv\\python.exe' requires the ipykernel package.\n",
      "\u001b[1;31mRun the following command to install 'ipykernel' into the Python environment. \n",
      "\u001b[1;31mCommand: 'conda install -p c:\\Users\\aayaan\\Desktop\\Projects\\ML\\Boston-House-Prices\\venv ipykernel --update-deps --force-reinstall'"
     ]
    }
   ],
   "source": [
    "new_data = boston.data[0].reshape(1,-1)"
   ]
  },
  {
   "cell_type": "code",
   "execution_count": null,
   "id": "9e6ee67b-c17f-4236-9b02-000d4a22906e",
   "metadata": {},
   "outputs": [
    {
     "ename": "",
     "evalue": "",
     "output_type": "error",
     "traceback": [
      "\u001b[1;31mRunning cells with 'c:\\Users\\aayaan\\Desktop\\Projects\\ML\\Boston-House-Prices\\venv\\python.exe' requires the ipykernel package.\n",
      "\u001b[1;31mRun the following command to install 'ipykernel' into the Python environment. \n",
      "\u001b[1;31mCommand: 'conda install -p c:\\Users\\aayaan\\Desktop\\Projects\\ML\\Boston-House-Prices\\venv ipykernel --update-deps --force-reinstall'"
     ]
    }
   ],
   "source": [
    "## transformation of new data\n",
    "scaled_new_data = scaler.transform(new_data)"
   ]
  },
  {
   "cell_type": "code",
   "execution_count": null,
   "id": "d0793adb-d50e-4e70-8483-a623eab57791",
   "metadata": {},
   "outputs": [
    {
     "ename": "",
     "evalue": "",
     "output_type": "error",
     "traceback": [
      "\u001b[1;31mRunning cells with 'c:\\Users\\aayaan\\Desktop\\Projects\\ML\\Boston-House-Prices\\venv\\python.exe' requires the ipykernel package.\n",
      "\u001b[1;31mRun the following command to install 'ipykernel' into the Python environment. \n",
      "\u001b[1;31mCommand: 'conda install -p c:\\Users\\aayaan\\Desktop\\Projects\\ML\\Boston-House-Prices\\venv ipykernel --update-deps --force-reinstall'"
     ]
    }
   ],
   "source": [
    "regression.predict(scaled_new_data)"
   ]
  },
  {
   "cell_type": "markdown",
   "id": "d465b3a5-0a7f-4c8b-9ae9-fe71c931454b",
   "metadata": {},
   "source": [
    "## Pickling the Model File for Deployment"
   ]
  },
  {
   "cell_type": "code",
   "execution_count": null,
   "id": "a08dc5d2-e20a-4a02-a109-e6184553e887",
   "metadata": {},
   "outputs": [
    {
     "ename": "",
     "evalue": "",
     "output_type": "error",
     "traceback": [
      "\u001b[1;31mRunning cells with 'c:\\Users\\aayaan\\Desktop\\Projects\\ML\\Boston-House-Prices\\venv\\python.exe' requires the ipykernel package.\n",
      "\u001b[1;31mRun the following command to install 'ipykernel' into the Python environment. \n",
      "\u001b[1;31mCommand: 'conda install -p c:\\Users\\aayaan\\Desktop\\Projects\\ML\\Boston-House-Prices\\venv ipykernel --update-deps --force-reinstall'"
     ]
    }
   ],
   "source": [
    "import pickle"
   ]
  },
  {
   "cell_type": "code",
   "execution_count": null,
   "id": "0f719d4e-0961-4a3b-841c-c02b19801b78",
   "metadata": {},
   "outputs": [
    {
     "ename": "",
     "evalue": "",
     "output_type": "error",
     "traceback": [
      "\u001b[1;31mRunning cells with 'c:\\Users\\aayaan\\Desktop\\Projects\\ML\\Boston-House-Prices\\venv\\python.exe' requires the ipykernel package.\n",
      "\u001b[1;31mRun the following command to install 'ipykernel' into the Python environment. \n",
      "\u001b[1;31mCommand: 'conda install -p c:\\Users\\aayaan\\Desktop\\Projects\\ML\\Boston-House-Prices\\venv ipykernel --update-deps --force-reinstall'"
     ]
    }
   ],
   "source": [
    "pickle.dump(regression, open('regmodel.pkl','wb'))"
   ]
  },
  {
   "cell_type": "code",
   "execution_count": null,
   "id": "14471e48-87a1-4142-8af9-b3e1ae2c954b",
   "metadata": {},
   "outputs": [
    {
     "ename": "",
     "evalue": "",
     "output_type": "error",
     "traceback": [
      "\u001b[1;31mRunning cells with 'c:\\Users\\aayaan\\Desktop\\Projects\\ML\\Boston-House-Prices\\venv\\python.exe' requires the ipykernel package.\n",
      "\u001b[1;31mRun the following command to install 'ipykernel' into the Python environment. \n",
      "\u001b[1;31mCommand: 'conda install -p c:\\Users\\aayaan\\Desktop\\Projects\\ML\\Boston-House-Prices\\venv ipykernel --update-deps --force-reinstall'"
     ]
    }
   ],
   "source": [
    "pickled_model = pickle.load(open('regmodel.pkl','rb'))"
   ]
  },
  {
   "cell_type": "code",
   "execution_count": null,
   "id": "c2ea37f5-ce60-400f-8c52-a18668885618",
   "metadata": {},
   "outputs": [
    {
     "ename": "",
     "evalue": "",
     "output_type": "error",
     "traceback": [
      "\u001b[1;31mRunning cells with 'c:\\Users\\aayaan\\Desktop\\Projects\\ML\\Boston-House-Prices\\venv\\python.exe' requires the ipykernel package.\n",
      "\u001b[1;31mRun the following command to install 'ipykernel' into the Python environment. \n",
      "\u001b[1;31mCommand: 'conda install -p c:\\Users\\aayaan\\Desktop\\Projects\\ML\\Boston-House-Prices\\venv ipykernel --update-deps --force-reinstall'"
     ]
    }
   ],
   "source": [
    "## Prediction\n",
    "pickled_model.predict(scaled_new_data)"
   ]
  }
 ],
 "metadata": {
  "kernelspec": {
   "display_name": "Python 3 (ipykernel)",
   "language": "python",
   "name": "python3"
  },
  "language_info": {
   "codemirror_mode": {
    "name": "ipython",
    "version": 3
   },
   "file_extension": ".py",
   "mimetype": "text/x-python",
   "name": "python",
   "nbconvert_exporter": "python",
   "pygments_lexer": "ipython3",
   "version": "3.7.0"
  }
 },
 "nbformat": 4,
 "nbformat_minor": 5
}
